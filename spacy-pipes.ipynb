{
  "nbformat": 4,
  "nbformat_minor": 0,
  "metadata": {
    "colab": {
      "provenance": []
    },
    "kernelspec": {
      "name": "python3",
      "display_name": "Python 3"
    },
    "language_info": {
      "name": "python"
    }
  },
  "cells": [
    {
      "cell_type": "code",
      "execution_count": 1,
      "metadata": {
        "colab": {
          "base_uri": "https://localhost:8080/"
        },
        "id": "hEFknlUQESBr",
        "outputId": "be78061f-a930-4ae6-e62a-6c5763db27bd"
      },
      "outputs": [
        {
          "output_type": "stream",
          "name": "stdout",
          "text": [
            "Net income --> $9.4 million\n",
            "the prior year --> $2.7 million\n",
            "Revenue --> twelve billion dollars\n",
            "a loss --> 1b\n"
          ]
        }
      ],
      "source": [
        "import spacy\n",
        "\n",
        "nlp = spacy.load(\"en_core_web_sm\")\n",
        "# Merge noun phrases and entities for easier analysis\n",
        "nlp.add_pipe(\"merge_entities\")\n",
        "nlp.add_pipe(\"merge_noun_chunks\")\n",
        "\n",
        "TEXTS = [\n",
        "    \"Net income was $9.4 million compared to the prior year of $2.7 million.\",\n",
        "    \"Revenue exceeded twelve billion dollars, with a loss of $1b.\",\n",
        "]\n",
        "for doc in nlp.pipe(TEXTS):\n",
        "    for token in doc:\n",
        "        if token.ent_type_ == \"MONEY\":\n",
        "            # We have an attribute and direct object, so check for subject\n",
        "            if token.dep_ in (\"attr\", \"dobj\"):\n",
        "                subj = [w for w in token.head.lefts if w.dep_ == \"nsubj\"]\n",
        "                if subj:\n",
        "                    print(subj[0], \"-->\", token)\n",
        "            # We have a prepositional object with a preposition\n",
        "            elif token.dep_ == \"pobj\" and token.head.dep_ == \"prep\":\n",
        "                print(token.head.head, \"-->\", token)\n",
        "\n",
        "\n",
        "\n"
      ]
    },
    {
      "cell_type": "code",
      "source": [],
      "metadata": {
        "id": "1d8m9AtLEcm4"
      },
      "execution_count": null,
      "outputs": []
    },
    {
      "cell_type": "code",
      "source": [],
      "metadata": {
        "id": "AxpVWCcqEiZ2"
      },
      "execution_count": null,
      "outputs": []
    }
  ]
}