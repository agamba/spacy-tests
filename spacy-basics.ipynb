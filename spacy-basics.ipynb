{
 "cells": [
  {
   "cell_type": "code",
   "execution_count": null,
   "metadata": {},
   "outputs": [],
   "source": [
    "import spacy\n",
    "from spacy import displacy\n",
    "nlp = spacy.load(\"en_core_web_sm\")"
   ]
  },
  {
   "cell_type": "code",
   "execution_count": null,
   "metadata": {},
   "outputs": [],
   "source": [
    "# define a text sample\n",
    "text = \"I walk very slowly and peacefully to the funny big blue moon on sunday.\"\n",
    "\n",
    "# create spacy document\n",
    "doc = nlp(text)\n",
    "print(doc)"
   ]
  },
  {
   "cell_type": "code",
   "execution_count": null,
   "metadata": {},
   "outputs": [],
   "source": [
    "# extract all sentences in the doc\n",
    "sentences = list(doc.sents)\n",
    "\n",
    "# loop through each sentence in sentences\n",
    "for sentence in sentences:\n",
    "    print(sentence)\n",
    "    print(\"-----------\")\n",
    "    # loop through each tokens in a sentence.\n",
    "    for w in sentence:\n",
    "        # print some key data provided by spacy analysis of the text\n",
    "        print(w.text, \"\\t\", w.dep_, w.pos_,\n",
    "              w.morph, w.shape_, w.is_stop,\n",
    "              w.lemma_, w.ent_type_)\n",
    "        print(\"\\t TAG: \", w.tag_, spacy.explain(w.tag_))\n",
    "        print(\"\\t head.head:\", w.head.head, \"head:\", w.head)\n",
    "        print(\"\\tSUBREE:\", list(w.subtree))\n",
    "        print(\"-----------\")\n",
    "    \n"
   ]
  },
  {
   "cell_type": "code",
   "execution_count": null,
   "metadata": {},
   "outputs": [],
   "source": [
    "# use displacy to visualize dependencies\n",
    "displacy.render(doc, style ='dep', jupyter = True)\n"
   ]
  },
  {
   "cell_type": "code",
   "execution_count": null,
   "metadata": {},
   "outputs": [],
   "source": [
    "# use displacy to visualize entities\n",
    "displacy.render(doc2, style=\"ent\")"
   ]
  },
  {
   "cell_type": "code",
   "execution_count": null,
   "metadata": {},
   "outputs": [],
   "source": []
  },
  {
   "cell_type": "code",
   "execution_count": null,
   "metadata": {},
   "outputs": [],
   "source": []
  }
 ],
 "metadata": {
  "kernelspec": {
   "display_name": "Python 3",
   "language": "python",
   "name": "python3"
  },
  "language_info": {
   "codemirror_mode": {
    "name": "ipython",
    "version": 3
   },
   "file_extension": ".py",
   "mimetype": "text/x-python",
   "name": "python",
   "nbconvert_exporter": "python",
   "pygments_lexer": "ipython3",
   "version": "3.7.6"
  }
 },
 "nbformat": 4,
 "nbformat_minor": 4
}
